{
 "cells": [
  {
   "cell_type": "code",
   "execution_count": null,
   "metadata": {},
   "outputs": [],
   "source": [
    "#!pip install meetup.api"
   ]
  },
  {
   "cell_type": "code",
   "execution_count": 14,
   "metadata": {},
   "outputs": [],
   "source": [
    "import meetup.api\n",
    "import json \n",
    "import requests \n",
    "import time \n",
    "import codecs\n",
    "import sys\n",
    "import io\n",
    "import re\n",
    "import pandas as pd\n",
    "import sqlalchemy as sa"
   ]
  },
  {
   "cell_type": "code",
   "execution_count": 2,
   "metadata": {},
   "outputs": [
    {
     "name": "stdout",
     "output_type": "stream",
     "text": [
      "Start fetching...\n",
      "request status: 29/30 (10 seconds remaining)\n",
      "progress: 1/125\n",
      "request status: 28/30 (10 seconds remaining)\n",
      "progress: 2/125\n",
      "request status: 27/30 (5 seconds remaining)\n",
      "progress: 3/125\n",
      "request status: "
     ]
    },
    {
     "ename": "KeyboardInterrupt",
     "evalue": "",
     "output_type": "error",
     "traceback": [
      "\u001b[0;31m---------------------------------------------------------------------------\u001b[0m",
      "\u001b[0;31mTypeError\u001b[0m                                 Traceback (most recent call last)",
      "\u001b[0;32m/anaconda3/lib/python3.6/site-packages/urllib3/connectionpool.py\u001b[0m in \u001b[0;36m_make_request\u001b[0;34m(self, conn, method, url, timeout, chunked, **httplib_request_kw)\u001b[0m\n\u001b[1;32m    379\u001b[0m             \u001b[0;32mtry\u001b[0m\u001b[0;34m:\u001b[0m  \u001b[0;31m# Python 2.7, use buffering of HTTP responses\u001b[0m\u001b[0;34m\u001b[0m\u001b[0m\n\u001b[0;32m--> 380\u001b[0;31m                 \u001b[0mhttplib_response\u001b[0m \u001b[0;34m=\u001b[0m \u001b[0mconn\u001b[0m\u001b[0;34m.\u001b[0m\u001b[0mgetresponse\u001b[0m\u001b[0;34m(\u001b[0m\u001b[0mbuffering\u001b[0m\u001b[0;34m=\u001b[0m\u001b[0;32mTrue\u001b[0m\u001b[0;34m)\u001b[0m\u001b[0;34m\u001b[0m\u001b[0m\n\u001b[0m\u001b[1;32m    381\u001b[0m             \u001b[0;32mexcept\u001b[0m \u001b[0mTypeError\u001b[0m\u001b[0;34m:\u001b[0m  \u001b[0;31m# Python 2.6 and older, Python 3\u001b[0m\u001b[0;34m\u001b[0m\u001b[0m\n",
      "\u001b[0;31mTypeError\u001b[0m: getresponse() got an unexpected keyword argument 'buffering'",
      "\nDuring handling of the above exception, another exception occurred:\n",
      "\u001b[0;31mKeyboardInterrupt\u001b[0m                         Traceback (most recent call last)",
      "\u001b[0;32m<ipython-input-2-9c953cf93f4e>\u001b[0m in \u001b[0;36m<module>\u001b[0;34m()\u001b[0m\n\u001b[1;32m     57\u001b[0m \u001b[0;34m\u001b[0m\u001b[0m\n\u001b[1;32m     58\u001b[0m \u001b[0mkey\u001b[0m \u001b[0;34m=\u001b[0m \u001b[0;34m'1a60703a102a6252424875415c1b21'\u001b[0m\u001b[0;34m\u001b[0m\u001b[0m\n\u001b[0;32m---> 59\u001b[0;31m \u001b[0mdf\u001b[0m \u001b[0;34m=\u001b[0m \u001b[0msuperFetch\u001b[0m\u001b[0;34m(\u001b[0m\u001b[0;34m'DC-Tech-Meetup'\u001b[0m\u001b[0;34m,\u001b[0m \u001b[0mkey\u001b[0m\u001b[0;34m)\u001b[0m\u001b[0;34m\u001b[0m\u001b[0m\n\u001b[0m",
      "\u001b[0;32m<ipython-input-2-9c953cf93f4e>\u001b[0m in \u001b[0;36msuperFetch\u001b[0;34m(groupname, key)\u001b[0m\n\u001b[1;32m     20\u001b[0m         \u001b[0mprint\u001b[0m\u001b[0;34m(\u001b[0m\u001b[0;34m'request status:'\u001b[0m\u001b[0;34m,\u001b[0m\u001b[0mend\u001b[0m\u001b[0;34m=\u001b[0m\u001b[0;34m' '\u001b[0m\u001b[0;34m)\u001b[0m\u001b[0;34m\u001b[0m\u001b[0m\n\u001b[1;32m     21\u001b[0m         \u001b[0;32mtry\u001b[0m\u001b[0;34m:\u001b[0m\u001b[0;34m\u001b[0m\u001b[0m\n\u001b[0;32m---> 22\u001b[0;31m             \u001b[0mmembers\u001b[0m \u001b[0;34m=\u001b[0m \u001b[0mclient\u001b[0m\u001b[0;34m.\u001b[0m\u001b[0mGetMembers\u001b[0m\u001b[0;34m(\u001b[0m\u001b[0mgroup_id\u001b[0m\u001b[0;34m=\u001b[0m\u001b[0mgid\u001b[0m\u001b[0;34m,\u001b[0m \u001b[0monly\u001b[0m\u001b[0;34m=\u001b[0m\u001b[0mwant\u001b[0m\u001b[0;34m,\u001b[0m\u001b[0mpage\u001b[0m\u001b[0;34m=\u001b[0m\u001b[0mlimit\u001b[0m\u001b[0;34m,\u001b[0m\u001b[0moffset\u001b[0m\u001b[0;34m=\u001b[0m\u001b[0moffsetValue\u001b[0m\u001b[0;34m)\u001b[0m\u001b[0;34m\u001b[0m\u001b[0m\n\u001b[0m\u001b[1;32m     23\u001b[0m             \u001b[0moffsetValue\u001b[0m\u001b[0;34m+=\u001b[0m\u001b[0;36m1\u001b[0m\u001b[0;34m\u001b[0m\u001b[0m\n\u001b[1;32m     24\u001b[0m             \u001b[0mrList\u001b[0m\u001b[0;34m=\u001b[0m \u001b[0mmembers\u001b[0m\u001b[0;34m.\u001b[0m\u001b[0mresults\u001b[0m\u001b[0;34m\u001b[0m\u001b[0m\n",
      "\u001b[0;32m/anaconda3/lib/python3.6/site-packages/meetup/api.py\u001b[0m in \u001b[0;36m_call\u001b[0;34m(self, service_name, parameters, **kwargs)\u001b[0m\n\u001b[1;32m    143\u001b[0m         \u001b[0;31m# but more testing will need to be done on parameters.\u001b[0m\u001b[0;34m\u001b[0m\u001b[0;34m\u001b[0m\u001b[0m\n\u001b[1;32m    144\u001b[0m         \u001b[0;32mif\u001b[0m \u001b[0mrequest_http_method\u001b[0m \u001b[0;34m==\u001b[0m \u001b[0;34m'GET'\u001b[0m\u001b[0;34m:\u001b[0m\u001b[0;34m\u001b[0m\u001b[0m\n\u001b[0;32m--> 145\u001b[0;31m             \u001b[0mresponse\u001b[0m \u001b[0;34m=\u001b[0m \u001b[0mself\u001b[0m\u001b[0;34m.\u001b[0m\u001b[0msession\u001b[0m\u001b[0;34m.\u001b[0m\u001b[0mget\u001b[0m\u001b[0;34m(\u001b[0m\u001b[0mrequest_url\u001b[0m\u001b[0;34m,\u001b[0m \u001b[0mparams\u001b[0m\u001b[0;34m=\u001b[0m\u001b[0mparameters\u001b[0m\u001b[0;34m)\u001b[0m\u001b[0;34m\u001b[0m\u001b[0m\n\u001b[0m\u001b[1;32m    146\u001b[0m         \u001b[0;32melif\u001b[0m \u001b[0mrequest_http_method\u001b[0m \u001b[0;34m==\u001b[0m \u001b[0;34m'POST'\u001b[0m\u001b[0;34m:\u001b[0m\u001b[0;34m\u001b[0m\u001b[0m\n\u001b[1;32m    147\u001b[0m             \u001b[0mresponse\u001b[0m \u001b[0;34m=\u001b[0m \u001b[0mself\u001b[0m\u001b[0;34m.\u001b[0m\u001b[0msession\u001b[0m\u001b[0;34m.\u001b[0m\u001b[0mpost\u001b[0m\u001b[0;34m(\u001b[0m\u001b[0mrequest_url\u001b[0m\u001b[0;34m,\u001b[0m \u001b[0mdata\u001b[0m\u001b[0;34m=\u001b[0m\u001b[0mparameters\u001b[0m\u001b[0;34m)\u001b[0m\u001b[0;34m\u001b[0m\u001b[0m\n",
      "\u001b[0;32m/anaconda3/lib/python3.6/site-packages/requests/sessions.py\u001b[0m in \u001b[0;36mget\u001b[0;34m(self, url, **kwargs)\u001b[0m\n\u001b[1;32m    519\u001b[0m \u001b[0;34m\u001b[0m\u001b[0m\n\u001b[1;32m    520\u001b[0m         \u001b[0mkwargs\u001b[0m\u001b[0;34m.\u001b[0m\u001b[0msetdefault\u001b[0m\u001b[0;34m(\u001b[0m\u001b[0;34m'allow_redirects'\u001b[0m\u001b[0;34m,\u001b[0m \u001b[0;32mTrue\u001b[0m\u001b[0;34m)\u001b[0m\u001b[0;34m\u001b[0m\u001b[0m\n\u001b[0;32m--> 521\u001b[0;31m         \u001b[0;32mreturn\u001b[0m \u001b[0mself\u001b[0m\u001b[0;34m.\u001b[0m\u001b[0mrequest\u001b[0m\u001b[0;34m(\u001b[0m\u001b[0;34m'GET'\u001b[0m\u001b[0;34m,\u001b[0m \u001b[0murl\u001b[0m\u001b[0;34m,\u001b[0m \u001b[0;34m**\u001b[0m\u001b[0mkwargs\u001b[0m\u001b[0;34m)\u001b[0m\u001b[0;34m\u001b[0m\u001b[0m\n\u001b[0m\u001b[1;32m    522\u001b[0m \u001b[0;34m\u001b[0m\u001b[0m\n\u001b[1;32m    523\u001b[0m     \u001b[0;32mdef\u001b[0m \u001b[0moptions\u001b[0m\u001b[0;34m(\u001b[0m\u001b[0mself\u001b[0m\u001b[0;34m,\u001b[0m \u001b[0murl\u001b[0m\u001b[0;34m,\u001b[0m \u001b[0;34m**\u001b[0m\u001b[0mkwargs\u001b[0m\u001b[0;34m)\u001b[0m\u001b[0;34m:\u001b[0m\u001b[0;34m\u001b[0m\u001b[0m\n",
      "\u001b[0;32m/anaconda3/lib/python3.6/site-packages/requests/sessions.py\u001b[0m in \u001b[0;36mrequest\u001b[0;34m(self, method, url, params, data, headers, cookies, files, auth, timeout, allow_redirects, proxies, hooks, stream, verify, cert, json)\u001b[0m\n\u001b[1;32m    506\u001b[0m         }\n\u001b[1;32m    507\u001b[0m         \u001b[0msend_kwargs\u001b[0m\u001b[0;34m.\u001b[0m\u001b[0mupdate\u001b[0m\u001b[0;34m(\u001b[0m\u001b[0msettings\u001b[0m\u001b[0;34m)\u001b[0m\u001b[0;34m\u001b[0m\u001b[0m\n\u001b[0;32m--> 508\u001b[0;31m         \u001b[0mresp\u001b[0m \u001b[0;34m=\u001b[0m \u001b[0mself\u001b[0m\u001b[0;34m.\u001b[0m\u001b[0msend\u001b[0m\u001b[0;34m(\u001b[0m\u001b[0mprep\u001b[0m\u001b[0;34m,\u001b[0m \u001b[0;34m**\u001b[0m\u001b[0msend_kwargs\u001b[0m\u001b[0;34m)\u001b[0m\u001b[0;34m\u001b[0m\u001b[0m\n\u001b[0m\u001b[1;32m    509\u001b[0m \u001b[0;34m\u001b[0m\u001b[0m\n\u001b[1;32m    510\u001b[0m         \u001b[0;32mreturn\u001b[0m \u001b[0mresp\u001b[0m\u001b[0;34m\u001b[0m\u001b[0m\n",
      "\u001b[0;32m/anaconda3/lib/python3.6/site-packages/requests/sessions.py\u001b[0m in \u001b[0;36msend\u001b[0;34m(self, request, **kwargs)\u001b[0m\n\u001b[1;32m    616\u001b[0m \u001b[0;34m\u001b[0m\u001b[0m\n\u001b[1;32m    617\u001b[0m         \u001b[0;31m# Send the request\u001b[0m\u001b[0;34m\u001b[0m\u001b[0;34m\u001b[0m\u001b[0m\n\u001b[0;32m--> 618\u001b[0;31m         \u001b[0mr\u001b[0m \u001b[0;34m=\u001b[0m \u001b[0madapter\u001b[0m\u001b[0;34m.\u001b[0m\u001b[0msend\u001b[0m\u001b[0;34m(\u001b[0m\u001b[0mrequest\u001b[0m\u001b[0;34m,\u001b[0m \u001b[0;34m**\u001b[0m\u001b[0mkwargs\u001b[0m\u001b[0;34m)\u001b[0m\u001b[0;34m\u001b[0m\u001b[0m\n\u001b[0m\u001b[1;32m    619\u001b[0m \u001b[0;34m\u001b[0m\u001b[0m\n\u001b[1;32m    620\u001b[0m         \u001b[0;31m# Total elapsed time of the request (approximately)\u001b[0m\u001b[0;34m\u001b[0m\u001b[0;34m\u001b[0m\u001b[0m\n",
      "\u001b[0;32m/anaconda3/lib/python3.6/site-packages/requests/adapters.py\u001b[0m in \u001b[0;36msend\u001b[0;34m(self, request, stream, timeout, verify, cert, proxies)\u001b[0m\n\u001b[1;32m    438\u001b[0m                     \u001b[0mdecode_content\u001b[0m\u001b[0;34m=\u001b[0m\u001b[0;32mFalse\u001b[0m\u001b[0;34m,\u001b[0m\u001b[0;34m\u001b[0m\u001b[0m\n\u001b[1;32m    439\u001b[0m                     \u001b[0mretries\u001b[0m\u001b[0;34m=\u001b[0m\u001b[0mself\u001b[0m\u001b[0;34m.\u001b[0m\u001b[0mmax_retries\u001b[0m\u001b[0;34m,\u001b[0m\u001b[0;34m\u001b[0m\u001b[0m\n\u001b[0;32m--> 440\u001b[0;31m                     \u001b[0mtimeout\u001b[0m\u001b[0;34m=\u001b[0m\u001b[0mtimeout\u001b[0m\u001b[0;34m\u001b[0m\u001b[0m\n\u001b[0m\u001b[1;32m    441\u001b[0m                 )\n\u001b[1;32m    442\u001b[0m \u001b[0;34m\u001b[0m\u001b[0m\n",
      "\u001b[0;32m/anaconda3/lib/python3.6/site-packages/urllib3/connectionpool.py\u001b[0m in \u001b[0;36murlopen\u001b[0;34m(self, method, url, body, headers, retries, redirect, assert_same_host, timeout, pool_timeout, release_conn, chunked, body_pos, **response_kw)\u001b[0m\n\u001b[1;32m    599\u001b[0m                                                   \u001b[0mtimeout\u001b[0m\u001b[0;34m=\u001b[0m\u001b[0mtimeout_obj\u001b[0m\u001b[0;34m,\u001b[0m\u001b[0;34m\u001b[0m\u001b[0m\n\u001b[1;32m    600\u001b[0m                                                   \u001b[0mbody\u001b[0m\u001b[0;34m=\u001b[0m\u001b[0mbody\u001b[0m\u001b[0;34m,\u001b[0m \u001b[0mheaders\u001b[0m\u001b[0;34m=\u001b[0m\u001b[0mheaders\u001b[0m\u001b[0;34m,\u001b[0m\u001b[0;34m\u001b[0m\u001b[0m\n\u001b[0;32m--> 601\u001b[0;31m                                                   chunked=chunked)\n\u001b[0m\u001b[1;32m    602\u001b[0m \u001b[0;34m\u001b[0m\u001b[0m\n\u001b[1;32m    603\u001b[0m             \u001b[0;31m# If we're going to release the connection in ``finally:``, then\u001b[0m\u001b[0;34m\u001b[0m\u001b[0;34m\u001b[0m\u001b[0m\n",
      "\u001b[0;32m/anaconda3/lib/python3.6/site-packages/urllib3/connectionpool.py\u001b[0m in \u001b[0;36m_make_request\u001b[0;34m(self, conn, method, url, timeout, chunked, **httplib_request_kw)\u001b[0m\n\u001b[1;32m    381\u001b[0m             \u001b[0;32mexcept\u001b[0m \u001b[0mTypeError\u001b[0m\u001b[0;34m:\u001b[0m  \u001b[0;31m# Python 2.6 and older, Python 3\u001b[0m\u001b[0;34m\u001b[0m\u001b[0m\n\u001b[1;32m    382\u001b[0m                 \u001b[0;32mtry\u001b[0m\u001b[0;34m:\u001b[0m\u001b[0;34m\u001b[0m\u001b[0m\n\u001b[0;32m--> 383\u001b[0;31m                     \u001b[0mhttplib_response\u001b[0m \u001b[0;34m=\u001b[0m \u001b[0mconn\u001b[0m\u001b[0;34m.\u001b[0m\u001b[0mgetresponse\u001b[0m\u001b[0;34m(\u001b[0m\u001b[0;34m)\u001b[0m\u001b[0;34m\u001b[0m\u001b[0m\n\u001b[0m\u001b[1;32m    384\u001b[0m                 \u001b[0;32mexcept\u001b[0m \u001b[0mException\u001b[0m \u001b[0;32mas\u001b[0m \u001b[0me\u001b[0m\u001b[0;34m:\u001b[0m\u001b[0;34m\u001b[0m\u001b[0m\n\u001b[1;32m    385\u001b[0m                     \u001b[0;31m# Remove the TypeError from the exception chain in Python 3;\u001b[0m\u001b[0;34m\u001b[0m\u001b[0;34m\u001b[0m\u001b[0m\n",
      "\u001b[0;32m/anaconda3/lib/python3.6/http/client.py\u001b[0m in \u001b[0;36mgetresponse\u001b[0;34m(self)\u001b[0m\n\u001b[1;32m   1329\u001b[0m         \u001b[0;32mtry\u001b[0m\u001b[0;34m:\u001b[0m\u001b[0;34m\u001b[0m\u001b[0m\n\u001b[1;32m   1330\u001b[0m             \u001b[0;32mtry\u001b[0m\u001b[0;34m:\u001b[0m\u001b[0;34m\u001b[0m\u001b[0m\n\u001b[0;32m-> 1331\u001b[0;31m                 \u001b[0mresponse\u001b[0m\u001b[0;34m.\u001b[0m\u001b[0mbegin\u001b[0m\u001b[0;34m(\u001b[0m\u001b[0;34m)\u001b[0m\u001b[0;34m\u001b[0m\u001b[0m\n\u001b[0m\u001b[1;32m   1332\u001b[0m             \u001b[0;32mexcept\u001b[0m \u001b[0mConnectionError\u001b[0m\u001b[0;34m:\u001b[0m\u001b[0;34m\u001b[0m\u001b[0m\n\u001b[1;32m   1333\u001b[0m                 \u001b[0mself\u001b[0m\u001b[0;34m.\u001b[0m\u001b[0mclose\u001b[0m\u001b[0;34m(\u001b[0m\u001b[0;34m)\u001b[0m\u001b[0;34m\u001b[0m\u001b[0m\n",
      "\u001b[0;32m/anaconda3/lib/python3.6/http/client.py\u001b[0m in \u001b[0;36mbegin\u001b[0;34m(self)\u001b[0m\n\u001b[1;32m    295\u001b[0m         \u001b[0;31m# read until we get a non-100 response\u001b[0m\u001b[0;34m\u001b[0m\u001b[0;34m\u001b[0m\u001b[0m\n\u001b[1;32m    296\u001b[0m         \u001b[0;32mwhile\u001b[0m \u001b[0;32mTrue\u001b[0m\u001b[0;34m:\u001b[0m\u001b[0;34m\u001b[0m\u001b[0m\n\u001b[0;32m--> 297\u001b[0;31m             \u001b[0mversion\u001b[0m\u001b[0;34m,\u001b[0m \u001b[0mstatus\u001b[0m\u001b[0;34m,\u001b[0m \u001b[0mreason\u001b[0m \u001b[0;34m=\u001b[0m \u001b[0mself\u001b[0m\u001b[0;34m.\u001b[0m\u001b[0m_read_status\u001b[0m\u001b[0;34m(\u001b[0m\u001b[0;34m)\u001b[0m\u001b[0;34m\u001b[0m\u001b[0m\n\u001b[0m\u001b[1;32m    298\u001b[0m             \u001b[0;32mif\u001b[0m \u001b[0mstatus\u001b[0m \u001b[0;34m!=\u001b[0m \u001b[0mCONTINUE\u001b[0m\u001b[0;34m:\u001b[0m\u001b[0;34m\u001b[0m\u001b[0m\n\u001b[1;32m    299\u001b[0m                 \u001b[0;32mbreak\u001b[0m\u001b[0;34m\u001b[0m\u001b[0m\n",
      "\u001b[0;32m/anaconda3/lib/python3.6/http/client.py\u001b[0m in \u001b[0;36m_read_status\u001b[0;34m(self)\u001b[0m\n\u001b[1;32m    256\u001b[0m \u001b[0;34m\u001b[0m\u001b[0m\n\u001b[1;32m    257\u001b[0m     \u001b[0;32mdef\u001b[0m \u001b[0m_read_status\u001b[0m\u001b[0;34m(\u001b[0m\u001b[0mself\u001b[0m\u001b[0;34m)\u001b[0m\u001b[0;34m:\u001b[0m\u001b[0;34m\u001b[0m\u001b[0m\n\u001b[0;32m--> 258\u001b[0;31m         \u001b[0mline\u001b[0m \u001b[0;34m=\u001b[0m \u001b[0mstr\u001b[0m\u001b[0;34m(\u001b[0m\u001b[0mself\u001b[0m\u001b[0;34m.\u001b[0m\u001b[0mfp\u001b[0m\u001b[0;34m.\u001b[0m\u001b[0mreadline\u001b[0m\u001b[0;34m(\u001b[0m\u001b[0m_MAXLINE\u001b[0m \u001b[0;34m+\u001b[0m \u001b[0;36m1\u001b[0m\u001b[0;34m)\u001b[0m\u001b[0;34m,\u001b[0m \u001b[0;34m\"iso-8859-1\"\u001b[0m\u001b[0;34m)\u001b[0m\u001b[0;34m\u001b[0m\u001b[0m\n\u001b[0m\u001b[1;32m    259\u001b[0m         \u001b[0;32mif\u001b[0m \u001b[0mlen\u001b[0m\u001b[0;34m(\u001b[0m\u001b[0mline\u001b[0m\u001b[0;34m)\u001b[0m \u001b[0;34m>\u001b[0m \u001b[0m_MAXLINE\u001b[0m\u001b[0;34m:\u001b[0m\u001b[0;34m\u001b[0m\u001b[0m\n\u001b[1;32m    260\u001b[0m             \u001b[0;32mraise\u001b[0m \u001b[0mLineTooLong\u001b[0m\u001b[0;34m(\u001b[0m\u001b[0;34m\"status line\"\u001b[0m\u001b[0;34m)\u001b[0m\u001b[0;34m\u001b[0m\u001b[0m\n",
      "\u001b[0;32m/anaconda3/lib/python3.6/socket.py\u001b[0m in \u001b[0;36mreadinto\u001b[0;34m(self, b)\u001b[0m\n\u001b[1;32m    584\u001b[0m         \u001b[0;32mwhile\u001b[0m \u001b[0;32mTrue\u001b[0m\u001b[0;34m:\u001b[0m\u001b[0;34m\u001b[0m\u001b[0m\n\u001b[1;32m    585\u001b[0m             \u001b[0;32mtry\u001b[0m\u001b[0;34m:\u001b[0m\u001b[0;34m\u001b[0m\u001b[0m\n\u001b[0;32m--> 586\u001b[0;31m                 \u001b[0;32mreturn\u001b[0m \u001b[0mself\u001b[0m\u001b[0;34m.\u001b[0m\u001b[0m_sock\u001b[0m\u001b[0;34m.\u001b[0m\u001b[0mrecv_into\u001b[0m\u001b[0;34m(\u001b[0m\u001b[0mb\u001b[0m\u001b[0;34m)\u001b[0m\u001b[0;34m\u001b[0m\u001b[0m\n\u001b[0m\u001b[1;32m    587\u001b[0m             \u001b[0;32mexcept\u001b[0m \u001b[0mtimeout\u001b[0m\u001b[0;34m:\u001b[0m\u001b[0;34m\u001b[0m\u001b[0m\n\u001b[1;32m    588\u001b[0m                 \u001b[0mself\u001b[0m\u001b[0;34m.\u001b[0m\u001b[0m_timeout_occurred\u001b[0m \u001b[0;34m=\u001b[0m \u001b[0;32mTrue\u001b[0m\u001b[0;34m\u001b[0m\u001b[0m\n",
      "\u001b[0;31mKeyboardInterrupt\u001b[0m: "
     ]
    }
   ],
   "source": [
    "def superFetch(groupname, key):\n",
    "    print(\"Start fetching...\")\n",
    "    client = meetup.api.Client(key)\n",
    "    print('request status:',end=' ')\n",
    "    group = client.GetGroup({'urlname':groupname})\n",
    "    gid = group.id\n",
    "    total = group.members\n",
    "    want = 'id,name,state,city,lon,lat'\n",
    "    limit = 200\n",
    "    request = total//limit+1\n",
    "    offsetValue = 0\n",
    "    name = []\n",
    "    uid = []\n",
    "    state = []\n",
    "    city = []\n",
    "    lon = []\n",
    "    lat = []\n",
    "    for i in range(request):\n",
    "        print('progress: ',offsetValue+1,'/',request, sep='')\n",
    "        print('request status:',end=' ')\n",
    "        try:\n",
    "            members = client.GetMembers(group_id=gid, only=want,page=limit,offset=offsetValue)\n",
    "            offsetValue+=1\n",
    "            rList= members.results\n",
    "            for j in rList:\n",
    "                if len(j.keys())==4:\n",
    "                    name.append(j['name'])\n",
    "                    uid.append(j['id'])\n",
    "                    state.append(j['state'])\n",
    "                    city.append(j['city'])\n",
    "                else:\n",
    "                    uid.append(j['id'])\n",
    "                    try:\n",
    "                        name.append(j['name'])\n",
    "                    except KeyError:\n",
    "                        name.append('null')\n",
    "                    try:\n",
    "                        state.append(j['state'])\n",
    "                    except KeyError:\n",
    "                        state.append('null')\n",
    "                    try:\n",
    "                        city.append(j['city'])\n",
    "                    except:\n",
    "                        city.append('null')\n",
    "                    try:\n",
    "                        lon.append(j['lon'])\n",
    "                        lat.append(j['lat'])\n",
    "                    except:\n",
    "                        lon.append('null')\n",
    "                        lat.append('null')\n",
    "        except json.decoder.JSONDecodeError:\n",
    "            print(\"JSONDecodeError\")\n",
    "    print(\"fetching complete\")\n",
    "    df = pd.DataFrame({\"name\":name, \"uid\":uid, \"state\":state, \"city\":city, \"lon\":lon, \"lat\":lat})\n",
    "    return df\n",
    "\n",
    "\n",
    "key = '1a60703a102a6252424875415c1b21'\n",
    "df = superFetch('DC-Tech-Meetup', key)"
   ]
  },
  {
   "cell_type": "code",
   "execution_count": null,
   "metadata": {},
   "outputs": [],
   "source": [
    "df[\"state\"] = df[\"state\"].replace(\"DC\", 1)\n",
    "df[\"state\"] = df[\"state\"].replace(\"MD\", 2)\n",
    "df[\"state\"] = df[\"state\"].replace(\"VA\", 3)\n",
    "\n",
    "for index,row in df.iterrows():\n",
    "    if df.loc[index, \"state\"] != 1 and df.loc[index, \"state\"] != 2 and df.loc[index, \"state\"] != 3:\n",
    "        df.loc[index, \"state\"] = 4"
   ]
  },
  {
   "cell_type": "code",
   "execution_count": null,
   "metadata": {},
   "outputs": [],
   "source": [
    "print(df)"
   ]
  },
  {
   "cell_type": "code",
   "execution_count": null,
   "metadata": {},
   "outputs": [],
   "source": [
    "def scrapeData(protocol, host, resource):\n",
    "    '''\n",
    "    This function takes elements of a URL and returns the raw text from\n",
    "    the webpage.\n",
    "    Parameters: protocol, host, resource\n",
    "    Returns: response text\n",
    "    '''\n",
    "    template = \"{}://{}{}\"\n",
    "    url = template.format(protocol, host, resource)\n",
    "    resp = requests.get(url)\n",
    "    if resp.status_code == 200:\n",
    "        return resp.text\n",
    "    print(\"Error\")\n",
    "\n",
    "txt = scrapeData(\"https\", \"en.wikipedia.org\", \"/wiki/Washington_metropolitan_area\")"
   ]
  },
  {
   "cell_type": "code",
   "execution_count": 24,
   "metadata": {},
   "outputs": [],
   "source": [
    "def extractSectionBetween(txt, start, end):\n",
    "    '''\n",
    "    Slices text by substring boundaries rather than index boundaries.\n",
    "    Parameters: text to slice, start string, end string\n",
    "    Returns: trimmed string\n",
    "    '''\n",
    "    startInd = txt.find(start)\n",
    "    endInd = txt.find(end)\n",
    "    return txt[startInd:endInd]\n",
    "\n",
    "txt = extractSectionBetween(txt, \"92.3 years\", \"The Washington, D.C. area has the largest science\")"
   ]
  },
  {
   "cell_type": "code",
   "execution_count": 25,
   "metadata": {},
   "outputs": [
    {
     "name": "stdout",
     "output_type": "stream",
     "text": [
      "    CountyID                  County  State  Population\n",
      "0          1              Washington      1      681170\n",
      "1          2          Calvert County      2       91251\n",
      "2          3          Charles County      2      157705\n",
      "3          4        Frederick County      2      247591\n",
      "4          5       Montgomery County      2     1043863\n",
      "5          6  Prince George's County      2      908049\n",
      "6          7              Alexandria      3      155810\n",
      "7          8        Arlington County      3      230050\n",
      "8          9           Clarke County      3       14374\n",
      "9         10         Culpeper County      3       50083\n",
      "10        11          Fairfax County      3     1138652\n",
      "11        12            Fairfax City      3       24164\n",
      "12        13            Falls Church      3       14014\n",
      "13        14         Fauquier County      3       69069\n",
      "14        15          Fredericksburg      3       28297\n",
      "15        16          Loudoun County      3      385945\n",
      "16        17                Manassas      3       41483\n",
      "17        18           Manassas Park      3       15915\n",
      "18        19   Prince William County      3      455210\n",
      "19        20     Rappahannock County      3        7388\n",
      "20        21     Spotsylvania County      3      132010\n",
      "21        22         Stafford County      3      144361\n",
      "22        23           Warren County      3       39155\n"
     ]
    }
   ],
   "source": [
    "def recreateTable(txt):\n",
    "    '''\n",
    "    Takes text containing a table in raw HTML format and\n",
    "    places desired data in a pandas data frame.\n",
    "    Parameters: html text\n",
    "    Returns: pandas data frame\n",
    "    '''\n",
    "    pat = re.compile(r\"<td><a .*?>(?P<county>.*?)<\\/a>\\n<\\/td>\\n<td .*?>(?P<pop>.*?)\\n<\\/td>\")\n",
    "    countyid = []\n",
    "    i = 1\n",
    "    county = []\n",
    "    state = []\n",
    "    pop = []\n",
    "    for m in pat.finditer(txt):\n",
    "        county.append(m[\"county\"].split(\",\")[0].strip())\n",
    "        state.append(m[\"county\"].split(\",\")[1].strip())\n",
    "        pop.append(int(m[\"pop\"].replace(\",\", \"\")))\n",
    "        countyid.append(i)\n",
    "        i += 1\n",
    "    return pd.DataFrame({\"CountyID\":countyid, \"County\":county, \"State\":state, \"Population\":pop})\n",
    "    \n",
    "popTable = recreateTable(txt)\n",
    "\n",
    "popTable[\"State\"] = popTable[\"State\"].replace(\"D.C.\", 1)\n",
    "popTable[\"State\"] = popTable[\"State\"].replace(\"Maryland\", 2)\n",
    "popTable[\"State\"] = popTable[\"State\"].replace(\"Virginia\", 3)\n",
    "\n",
    "\n",
    "\n",
    "print(popTable)\n",
    "    \n"
   ]
  },
  {
   "cell_type": "code",
   "execution_count": 3,
   "metadata": {},
   "outputs": [],
   "source": [
    "def getCreds(filename,subset,defaults={}):\n",
    "    '''\n",
    "    This function helps us connect to a database on hadoop2.  The\n",
    "    userid password information is stored in a local file encoded\n",
    "    in json format.  \n",
    "    Parameters:\n",
    "    filename is where json encoded userid/password information stored\n",
    "    subset: dictionary key in json file\n",
    "    defaults: alternative way to connect to database\n",
    "    Returns: subdictionary based on subset parameter.\n",
    "    '''\n",
    "    try:\n",
    "        with open(filename,'r') as file:\n",
    "            D = json.load(file)\n",
    "            file.close()\n",
    "            if D[subset]:\n",
    "                return D[subset]\n",
    "            else:\n",
    "                return defaults\n",
    "    except:\n",
    "        return defaults\n",
    "\n",
    "def db_setup(userid,password):\n",
    "    '''\n",
    "    This function connects us to a database using our login credentials. \n",
    "    Paramters:\n",
    "    userid - string with our userid\n",
    "    password - string with our password\n",
    "    database - string with database name\n",
    "    Returns:\n",
    "    SQL engine and SQL connection objects\n",
    "    '''\n",
    "    template = 'mysql+mysqlconnector://{}:{}@hadoop2.mathsci.denison.edu/'\n",
    "    cstring = template.format(userid,password)\n",
    "    engine = sa.create_engine(cstring)\n",
    "    connection = engine.connect()\n",
    "    \n",
    "    return engine, connection\n",
    "\n",
    "# creds = getCreds('creds.json','mysql',defaults = {'user':'studen_j1', 'password':'studen_j1'})\n",
    "creds = {'user': 'brown_b1', 'password': 'brown_b1'}"
   ]
  },
  {
   "cell_type": "code",
   "execution_count": 4,
   "metadata": {},
   "outputs": [],
   "source": [
    "try:\n",
    "    connection.close()\n",
    "    del engine\n",
    "except:\n",
    "    pass\n",
    "engine, connection = db_setup(creds['user'],creds['password'])"
   ]
  },
  {
   "cell_type": "code",
   "execution_count": 44,
   "metadata": {},
   "outputs": [
    {
     "data": {
      "text/plain": [
       "<sqlalchemy.engine.result.ResultProxy at 0x1fd36bfdd30>"
      ]
     },
     "execution_count": 44,
     "metadata": {},
     "output_type": "execute_result"
    }
   ],
   "source": [
    "makeDB = \"CREATE DATABASE brown_b1;\"\n",
    "#connection.execute(\"commit\")\n",
    "#connection.execute(makeDB)"
   ]
  },
  {
   "cell_type": "code",
   "execution_count": 7,
   "metadata": {},
   "outputs": [
    {
     "name": "stderr",
     "output_type": "stream",
     "text": [
      "Exception during reset or similar\n",
      "Traceback (most recent call last):\n",
      "  File \"/anaconda3/lib/python3.6/site-packages/sqlalchemy/pool.py\", line 709, in _finalize_fairy\n",
      "    fairy._reset(pool)\n",
      "  File \"/anaconda3/lib/python3.6/site-packages/sqlalchemy/pool.py\", line 880, in _reset\n",
      "    pool._dialect.do_rollback(self)\n",
      "  File \"/anaconda3/lib/python3.6/site-packages/sqlalchemy/dialects/mysql/base.py\", line 1796, in do_rollback\n",
      "    dbapi_connection.rollback()\n",
      "  File \"/anaconda3/lib/python3.6/site-packages/mysql/connector/connection_cext.py\", line 332, in rollback\n",
      "    self._cmysql.rollback()\n",
      "_mysql_connector.MySQLInterfaceError: Commands out of sync; you can't run this command now\n"
     ]
    }
   ],
   "source": [
    "def db_setup(userid,password, database):\n",
    "    '''\n",
    "    This function connects us to a database using our login credentials. \n",
    "    Paramters:\n",
    "    userid - string with our userid\n",
    "    password - string with our password\n",
    "    database - string with database name\n",
    "    Returns:\n",
    "    SQL engine and SQL connection objects\n",
    "    '''\n",
    "    template = 'mysql+mysqlconnector://{}:{}@hadoop2.mathsci.denison.edu/{}'\n",
    "    cstring = template.format(userid,password,database)\n",
    "    engine = sa.create_engine(cstring)\n",
    "    connection = engine.connect()\n",
    "    \n",
    "    return engine, connection\n",
    "\n",
    "try:\n",
    "    connection.close()\n",
    "    del engine\n",
    "except:\n",
    "    pass\n",
    "engine, connection = db_setup(creds['user'],creds['password'], \"brown_b1\")"
   ]
  },
  {
   "cell_type": "code",
   "execution_count": 49,
   "metadata": {},
   "outputs": [
    {
     "data": {
      "text/plain": [
       "<sqlalchemy.engine.result.ResultProxy at 0x1fd36c00470>"
      ]
     },
     "execution_count": 49,
     "metadata": {},
     "output_type": "execute_result"
    }
   ],
   "source": [
    "\n",
    "\n",
    "makeCountyPopulations = \"CREATE TABLE CountyPopulations(\\\n",
    "CountyID INT NOT NULL,\\\n",
    "CountyName VARCHAR(30),\\\n",
    "StateID INT,\\\n",
    "Population INT,\\\n",
    "PRIMARY KEY(CountyID)\\\n",
    ");\"\n",
    "\n",
    "makeStates = \"CREATE TABLE States(\\\n",
    "StateID INT NOT NULL,\\\n",
    "State VARCHAR(30),\\\n",
    "PRIMARY KEY(StateID)\\\n",
    ");\"\n",
    "\n",
    "makeUsers = \"CREATE TABLE Users(\\\n",
    "MemberID INT NOT NULL,\\\n",
    "Nickname VARCHAR(30),\\\n",
    "StateID INT,\\\n",
    "UserCity VARCHAR(30),\\\n",
    "UserLongitude DECIMAL(5, 2),\\\n",
    "UserLatitude DECIMAL(5, 2),\\\n",
    "PRIMARY KEY(MemberID)\\\n",
    ");\"\n",
    "\n",
    "#connection.execute(makeCountyPopulations)\n",
    "#connection.execute(makeStates)\n",
    "connection.execute(makeUsers)\n"
   ]
  },
  {
   "cell_type": "code",
   "execution_count": 50,
   "metadata": {},
   "outputs": [
    {
     "name": "stdout",
     "output_type": "stream",
     "text": [
      "0\n",
      "1000\n",
      "2000\n",
      "3000\n",
      "4000\n",
      "5000\n",
      "6000\n",
      "7000\n",
      "8000\n",
      "9000\n",
      "10000\n",
      "11000\n",
      "12000\n",
      "13000\n",
      "14000\n",
      "15000\n",
      "16000\n",
      "17000\n",
      "18000\n",
      "19000\n",
      "20000\n",
      "21000\n",
      "22000\n",
      "23000\n",
      "24000\n"
     ]
    }
   ],
   "source": [
    "countyRowTemplate = \"INSERT INTO CountyPopulations\\\n",
    "(CountyID, CountyName, StateID, Population)\\\n",
    "VALUES({},{},{},{});\"\n",
    "\n",
    "stateRows = \"INSERT INTO States\\\n",
    "(StateID, State)\\\n",
    "VALUES(1,'DC'),(2, 'Maryland'),(3,'Virginia'),(4,'OtherState');\"\n",
    "\n",
    "usersRowTemplate = \"INSERT INTO Users\\\n",
    "(MemberID, Nickname, StateID, UserCity, UserLongitude, UserLatitude)\\\n",
    "VALUES({},{},{},{},{},{});\"\n",
    "\n",
    "#connection.execute(stateRows)\n",
    "\n",
    "\n",
    "# for i in range(len(popTable)):\n",
    "#     countyRow = countyRowTemplate.format(popTable.iloc[i, 0], \"'\"+popTable.iloc[i, 1].replace(\"'\", \"\")+\"'\", popTable.iloc[i, 2], popTable.iloc[i, 3])\n",
    "#     connection.execute(countyRow)\n",
    "    \n",
    "\n",
    "    \n",
    "for i in range(len(df)):\n",
    "    if i % 1000 == 0:\n",
    "        print(i)\n",
    "    usersRow = usersRowTemplate.format(df.iloc[i,1], \"'\"+df.iloc[i, 0].replace(\"'\", \"\").replace(\"\\\\\", \"\")+\"'\", df.iloc[i, 2], \"'\"+df.iloc[i, 3].replace(\"'\", \"\")+\"'\", df.iloc[i, 4], df.iloc[i, 5])\n",
    "    connection.execute(usersRow)\n"
   ]
  },
  {
   "cell_type": "code",
   "execution_count": 48,
   "metadata": {},
   "outputs": [
    {
     "data": {
      "text/plain": [
       "24897"
      ]
     },
     "execution_count": 48,
     "metadata": {},
     "output_type": "execute_result"
    }
   ],
   "source": [
    "len(df)"
   ]
  },
  {
   "cell_type": "code",
   "execution_count": null,
   "metadata": {},
   "outputs": [],
   "source": [
    "creds = {'user': 'brown_b1', 'password': 'brown_b1'}\n",
    "\n",
    "try:\n",
    "    connection.close()\n",
    "    del engine\n",
    "except:\n",
    "    pass\n",
    "engine, connection = db_setup(creds['user'],creds['password'], \"brown_b1\")"
   ]
  },
  {
   "cell_type": "code",
   "execution_count": null,
   "metadata": {},
   "outputs": [],
   "source": [
    "def SQLtoPandas(sqlQuery):\n",
    "    '''\n",
    "    \n",
    "    \n",
    "    \n",
    "    '''\n",
    "    connection.execute(sqlQuery)\n",
    "    queryProxy = connection.execute(sqlQuery)\n",
    "    pandasDf = pd.DataFrame(queryProxy.fetchall(), columns = queryProxy.keys())\n",
    "    return pandasDf"
   ]
  },
  {
   "cell_type": "code",
   "execution_count": 41,
   "metadata": {},
   "outputs": [
    {
     "data": {
      "text/html": [
       "<div>\n",
       "<style scoped>\n",
       "    .dataframe tbody tr th:only-of-type {\n",
       "        vertical-align: middle;\n",
       "    }\n",
       "\n",
       "    .dataframe tbody tr th {\n",
       "        vertical-align: top;\n",
       "    }\n",
       "\n",
       "    .dataframe thead th {\n",
       "        text-align: right;\n",
       "    }\n",
       "</style>\n",
       "<table border=\"1\" class=\"dataframe\">\n",
       "  <thead>\n",
       "    <tr style=\"text-align: right;\">\n",
       "      <th></th>\n",
       "      <th>State</th>\n",
       "      <th>StatePopulation2016</th>\n",
       "      <th>Percentage</th>\n",
       "    </tr>\n",
       "  </thead>\n",
       "  <tbody>\n",
       "    <tr>\n",
       "      <th>0</th>\n",
       "      <td>DC</td>\n",
       "      <td>681170</td>\n",
       "      <td>11.21</td>\n",
       "    </tr>\n",
       "    <tr>\n",
       "      <th>1</th>\n",
       "      <td>Maryland</td>\n",
       "      <td>2448459</td>\n",
       "      <td>40.30</td>\n",
       "    </tr>\n",
       "    <tr>\n",
       "      <th>2</th>\n",
       "      <td>Virginia</td>\n",
       "      <td>2945980</td>\n",
       "      <td>48.49</td>\n",
       "    </tr>\n",
       "  </tbody>\n",
       "</table>\n",
       "</div>"
      ],
      "text/plain": [
       "      State StatePopulation2016 Percentage\n",
       "0        DC              681170      11.21\n",
       "1  Maryland             2448459      40.30\n",
       "2  Virginia             2945980      48.49"
      ]
     },
     "execution_count": 41,
     "metadata": {},
     "output_type": "execute_result"
    }
   ],
   "source": [
    "# dbconnect = \"USE brown_b1;\"\n",
    "\n",
    "PopQuery = '''\n",
    "SELECT s.State, sum(cp.Population) as StatePopulation2016\\\n",
    ",ROUND(SUM(cp.Population)/(SELECT SUM(cp.Population) FROM CountyPopulations AS cp)*100, 2) \n",
    "AS Percentage FROM CountyPopulations as cp\n",
    "INNER JOIN States AS s ON s.StateID = cp.StateID\n",
    "GROUP BY cp.StateID\n",
    "ORDER BY cp.StateID;\n",
    "'''\n",
    "\n",
    "actualPopDf = SQLtoPandas(PopQuery)\n",
    "\n",
    "actualPopDf"
   ]
  },
  {
   "cell_type": "code",
   "execution_count": 43,
   "metadata": {},
   "outputs": [
    {
     "name": "stdout",
     "output_type": "stream",
     "text": [
      "      State  UserPop Percentage\n",
      "0        DC    12752      51.22\n",
      "1  Maryland     3686      14.80\n",
      "2  Virginia     5445      21.87\n"
     ]
    }
   ],
   "source": [
    "UserPopQuery = '''\n",
    "SELECT s.State, count(u.MemberID) as UserPop,ROUND(COUNT(u.MemberID)/(SELECT COUNT(u.MemberID) FROM Users AS u)*100, 2)\n",
    "AS Percentage FROM Users AS u\n",
    "INNER JOIN States AS s ON s.StateID = u.StateID\n",
    "WHERE u.StateID in (1,2,3)\n",
    "GROUP BY u.StateID\n",
    "ORDER BY u.StateID;\n",
    "'''\n",
    "\n",
    "UserPopDf = SQLtoPandas(UserPopQuery)\n",
    "print(UserPopDf)\n",
    "\n",
    "\n",
    "UserPopDf.to_csv('UserPopDf.csv')"
   ]
  },
  {
   "cell_type": "code",
   "execution_count": null,
   "metadata": {},
   "outputs": [],
   "source": []
  },
  {
   "cell_type": "code",
   "execution_count": 44,
   "metadata": {},
   "outputs": [],
   "source": [
    "UserDemographicQuery = '''\n",
    "SELECT u.MemberID, u.UserLongitude, u.UserLatitude, u.UserCity, s.State\n",
    "FROM Users as u\n",
    "INNER JOIN States as s on s.stateID = u.stateID\n",
    "WHERE u.StateID in (1,2,3);\n",
    "'''\n",
    "\n",
    "UserDemographicDf = SQLtoPandas(UserDemographicQuery)\n",
    "UserDemographicDf\n",
    "\n",
    "UserDemographicDf.to_csv(\"UserDemographicDf.csv\")"
   ]
  },
  {
   "cell_type": "code",
   "execution_count": null,
   "metadata": {},
   "outputs": [],
   "source": []
  }
 ],
 "metadata": {
  "kernelspec": {
   "display_name": "Python 3",
   "language": "python",
   "name": "python3"
  },
  "language_info": {
   "codemirror_mode": {
    "name": "ipython",
    "version": 3
   },
   "file_extension": ".py",
   "mimetype": "text/x-python",
   "name": "python",
   "nbconvert_exporter": "python",
   "pygments_lexer": "ipython3",
   "version": "3.6.5"
  }
 },
 "nbformat": 4,
 "nbformat_minor": 2
}
